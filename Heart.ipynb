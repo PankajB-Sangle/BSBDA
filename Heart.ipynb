{
  "nbformat": 4,
  "nbformat_minor": 0,
  "metadata": {
    "colab": {
      "name": "Heart.ipynb",
      "provenance": []
    },
    "kernelspec": {
      "name": "python3",
      "display_name": "Python 3"
    },
    "language_info": {
      "name": "python"
    }
  },
  "cells": [
    {
      "cell_type": "code",
      "execution_count": null,
      "metadata": {
        "id": "D85po4dt6RIJ"
      },
      "outputs": [],
      "source": [
        "import pandas as pd\n",
        "import numpy as np\n",
        "import matplotlib.pyplot as plt\n"
      ]
    },
    {
      "cell_type": "code",
      "source": [
        "df=pd.read_csv('Heart.csv')\n",
        "df.head()\n",
        "df.columns"
      ],
      "metadata": {
        "id": "cxRO23266SVe"
      },
      "execution_count": null,
      "outputs": []
    },
    {
      "cell_type": "code",
      "source": [
        "df.shape"
      ],
      "metadata": {
        "id": "CoLK7Deo6SYF"
      },
      "execution_count": null,
      "outputs": []
    },
    {
      "cell_type": "code",
      "source": [
        "#1.Plot the cholestoral values using line graph(attribute 5)\n",
        "y=df['Chol'][:50]\n",
        "plt.plot(y)\n",
        "plt.show()\n"
      ],
      "metadata": {
        "id": "SkS64XGc6Sar"
      },
      "execution_count": null,
      "outputs": []
    },
    {
      "cell_type": "code",
      "source": [
        "#2.Plot the distribution of blood pressure using box plot (attribute 4)\n",
        "sb.set(style=\"whitegrid\")\n",
        "sb.boxplot(x=df['RestBP'])"
      ],
      "metadata": {
        "id": "D1IDwRhR6SdK"
      },
      "execution_count": null,
      "outputs": []
    },
    {
      "cell_type": "code",
      "source": [
        "#3.Plot the histogram for age distribution (attribute 1)\n",
        "plt.hist(df['Age'], 20,\n",
        "density=True,\n",
        "histtype='bar',\n",
        "facecolor='b',\n",
        "alpha=0.5)\n",
        "plt.show()\n"
      ],
      "metadata": {
        "id": "907eBMZK6Sgd"
      },
      "execution_count": null,
      "outputs": []
    },
    {
      "cell_type": "code",
      "source": [
        "#4.Plot the piechart to show age distribution (attribute 1)\n",
        "#define data\n",
        "data = df['Unnamed: 0'][:10]\n",
        "labels =df['Age'][:10]\n",
        "\n",
        "#define Seaborn color palette to use\n",
        "colors = sb.color_palette('bright')[0:5]\n",
        "\n",
        "#create pie chart\n",
        "plt.pie(data, labels = labels, colors = colors, autopct='%.0f%%', radius= 1.4, shadow=True\n",
        "plt.show() # To show pie chart only)\n",
        "plt.show()\n"
      ],
      "metadata": {
        "id": "0K2JWJRA6Sjj"
      },
      "execution_count": null,
      "outputs": []
    },
    {
      "cell_type": "code",
      "source": [
        "#5.Show Bar plot for chest pain type (attribute 3)\n",
        "df['ChestPain'].value_counts()"
      ],
      "metadata": {
        "id": "ew-qJ2HO6Slt"
      },
      "execution_count": null,
      "outputs": []
    },
    {
      "cell_type": "code",
      "source": [
        "import sklearn\n",
        "from sklearn.preprocessing import LabelEncoder\n",
        "le = LabelEncoder()\n",
        "df['ChestPain']= le.fit_transform(df['ChestPain'])\n",
        "df['ChestPain'].head()\n"
      ],
      "metadata": {
        "id": "ZcRqyp7g6Srx"
      },
      "execution_count": null,
      "outputs": []
    },
    {
      "cell_type": "code",
      "source": [
        "df['ChestPain'].value_counts()\n",
        "s= df['ChestPain'][:50]\n",
        "k= df['Unnamed: 0'][:50]\n"
      ],
      "metadata": {
        "id": "ttacN4fU6St-"
      },
      "execution_count": null,
      "outputs": []
    },
    {
      "cell_type": "code",
      "source": [
        "plt.figure(figsize=(10,5))\n",
        "plt.bar(s,k, color='blue', align='center')\n",
        "plt.xticks(rotation=90)\n",
        "plt.show()\n"
      ],
      "metadata": {
        "id": "LznByZku6Svg"
      },
      "execution_count": null,
      "outputs": []
    },
    {
      "cell_type": "code",
      "source": [
        "#6.show distribution of fasting blood sugar using scatter plot (attribute 6)"
      ],
      "metadata": {
        "id": "G31baPuH6SxC"
      },
      "execution_count": null,
      "outputs": []
    },
    {
      "cell_type": "code",
      "source": [
        "o1= df['Unnamed: 0'][:50]\n",
        "o2= df['Fbs'][:50]\n",
        "plt.scatter(o1, o2, marker='*', color='blue')\n",
        "plt.xlabel('Unnamed')\n",
        "plt.ylabel('Fasting blood sugar')\n",
        "plt.legend()\n"
      ],
      "metadata": {
        "id": "MEgXL3ni7g-v"
      },
      "execution_count": null,
      "outputs": []
    },
    {
      "cell_type": "code",
      "source": [
        "#7.Plot subplots for the slope of the peak exercise ST segment (attribute 11)* Vertically \n",
        "x=df['Unnamed: 0'][:50]\n",
        "y=df['Slope'][:50]\n",
        "fig, axs = plt.subplots(2)\n",
        "fig.suptitle('Vertically stacked subplots')\n",
        "axs[0].plot(x, y)\n",
        "axs[1].plot(x, -y)"
      ],
      "metadata": {
        "id": "ondZYXgg7hBN"
      },
      "execution_count": null,
      "outputs": []
    },
    {
      "cell_type": "code",
      "source": [
        "# 8.Horizontally Stacked Subplots\n",
        "fig, (ax1, ax2) = plt.subplots(1, 2)\n",
        "fig.suptitle('Horizontally stacked subplots')\n",
        "ax1.plot(x, y)\n",
        "ax2.plot(x, -y)"
      ],
      "metadata": {
        "id": "6P3hl-CG7t09"
      },
      "execution_count": null,
      "outputs": []
    },
    {
      "cell_type": "code",
      "source": [
        ""
      ],
      "metadata": {
        "id": "bgumwxgj7uKb"
      },
      "execution_count": null,
      "outputs": []
    }
  ]
}